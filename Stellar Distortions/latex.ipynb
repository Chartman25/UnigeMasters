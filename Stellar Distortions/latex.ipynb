{
 "cells": [
  {
   "cell_type": "code",
   "execution_count": 12,
   "id": "8001c570",
   "metadata": {},
   "outputs": [
    {
     "name": "stderr",
     "output_type": "stream",
     "text": [
      "<>:39: SyntaxWarning: invalid escape sequence '\\P'\n",
      "<>:39: SyntaxWarning: invalid escape sequence '\\P'\n",
      "C:\\Users\\casey\\AppData\\Local\\Temp\\ipykernel_54244\\2983872047.py:39: SyntaxWarning: invalid escape sequence '\\P'\n",
      "  print('Where $\\Phi$ is the angle between the LOS `z` and the surface element in the `zx` plane.')\n"
     ]
    },
    {
     "data": {
      "text/latex": [
       "$\\displaystyle \n",
       "\\begin{aligned}\n",
       "v &= \\Omega R_{\\star} \\\\\n",
       "  &= \\Omega_{\\mathrm{eq}}\\!\\left(1 - \\alpha_{\\mathrm{rot}}\\, y_{\\mathrm{lat}}^{2} - \\beta_{\\mathrm{rot}}\\, y_{\\mathrm{lat}}^{4}\\right) R_{\\star} \\\\\n",
       "  &= v_{\\mathrm{eq}}\\!\\left(1 - \\alpha_{\\mathrm{rot}}\\, y_{\\mathrm{lat}}^{2} - \\beta_{\\mathrm{rot}}\\, y_{\\mathrm{lat}}^{4}\\right)\n",
       "\\end{aligned}\n",
       "$"
      ],
      "text/plain": [
       "<IPython.core.display.Math object>"
      ]
     },
     "metadata": {},
     "output_type": "display_data"
    },
    {
     "name": "stdout",
     "output_type": "stream",
     "text": [
      "Calculates radial velocity of stellar surface element from rotation (in km/s). The absolute and radial velocity depend on stellar latitude in presence of differential rotation.\n"
     ]
    },
    {
     "data": {
      "text/latex": [
       "$\\displaystyle \n",
       "\\text{Velocity in the star frame:}\\quad\n",
       "\\begin{aligned}\n",
       "v_{x,\\mathrm{star}} &= \\; v \\cos\\Phi \\\\\n",
       "v_{y,\\mathrm{star}} &= -\\,v \\sin\\Phi \\\\\n",
       "v_{z,\\mathrm{star}} &= \\; 0\n",
       "\\end{aligned}\n",
       "\\qquad\n",
       "\\text{Velocity in the inclined star frame:}\\quad\n",
       "\\begin{aligned}\n",
       "v_{x,\\mathrm{sky\\;star}} &= \\; v \\cos\\Phi \\\\\n",
       "v_{y,\\mathrm{sky\\;star}} &= -\\,v \\sin\\Phi \\cos i_\\star \\\\\n",
       "v_{z,\\mathrm{sky\\;star}} &= -\\,v \\sin\\Phi \\sin i_\\star\n",
       "\\end{aligned}\n",
       "$"
      ],
      "text/plain": [
       "<IPython.core.display.Math object>"
      ]
     },
     "metadata": {},
     "output_type": "display_data"
    },
    {
     "name": "stdout",
     "output_type": "stream",
     "text": [
      "Where $\\Phi$ is the angle between the LOS `z` and the surface element in the `zx` plane.\n"
     ]
    },
    {
     "data": {
      "text/latex": [
       "$\\displaystyle \n",
       "\\begin{aligned}\n",
       "\\mathrm{rv} &= -\\,v_{z,\\mathrm{sky\\;star}} \\\\\n",
       "            &= v \\sin\\Phi \\,\\sin i_\\star \\\\\n",
       "            &= v\\,x_{\\mathrm{norm}} \\sin i_\\star \\\\\n",
       "            &= x_{\\mathrm{norm}}\\,v_{\\mathrm{eq}} \\sin i_\\star \\left(1 - \\alpha_{\\mathrm{rot}}\\, y_{\\mathrm{lat}}^{2} - \\beta_{\\mathrm{rot}}\\, y_{\\mathrm{lat}}^{4}\\right)\n",
       "\\end{aligned}\n",
       "$"
      ],
      "text/plain": [
       "<IPython.core.display.Math object>"
      ]
     },
     "metadata": {},
     "output_type": "display_data"
    }
   ],
   "source": [
    "from IPython.display import display, Math\n",
    "\n",
    "eq1 = r\"\"\"\n",
    "\\begin{aligned}\n",
    "v &= \\Omega R_{\\star} \\\\\n",
    "  &= \\Omega_{\\mathrm{eq}}\\!\\left(1 - \\alpha_{\\mathrm{rot}}\\, y_{\\mathrm{lat}}^{2} - \\beta_{\\mathrm{rot}}\\, y_{\\mathrm{lat}}^{4}\\right) R_{\\star} \\\\\n",
    "  &= v_{\\mathrm{eq}}\\!\\left(1 - \\alpha_{\\mathrm{rot}}\\, y_{\\mathrm{lat}}^{2} - \\beta_{\\mathrm{rot}}\\, y_{\\mathrm{lat}}^{4}\\right)\n",
    "\\end{aligned}\n",
    "\"\"\"\n",
    "\n",
    "eq2 = r\"\"\"\n",
    "\\text{Velocity in the star frame:}\\quad\n",
    "\\begin{aligned}\n",
    "v_{x,\\mathrm{star}} &= \\; v \\cos\\Phi \\\\\n",
    "v_{y,\\mathrm{star}} &= -\\,v \\sin\\Phi \\\\\n",
    "v_{z,\\mathrm{star}} &= \\; 0\n",
    "\\end{aligned}\n",
    "\\qquad\n",
    "\\text{Velocity in the inclined star frame:}\\quad\n",
    "\\begin{aligned}\n",
    "v_{x,\\mathrm{sky\\;star}} &= \\; v \\cos\\Phi \\\\\n",
    "v_{y,\\mathrm{sky\\;star}} &= -\\,v \\sin\\Phi \\cos i_\\star \\\\\n",
    "v_{z,\\mathrm{sky\\;star}} &= -\\,v \\sin\\Phi \\sin i_\\star\n",
    "\\end{aligned}\n",
    "\"\"\"\n",
    "\n",
    "eq3 = r\"\"\"\n",
    "\\begin{aligned}\n",
    "\\mathrm{rv} &= -\\,v_{z,\\mathrm{sky\\;star}} \\\\\n",
    "            &= v \\sin\\Phi \\,\\sin i_\\star \\\\\n",
    "            &= v\\,x_{\\mathrm{norm}} \\sin i_\\star \\\\\n",
    "            &= x_{\\mathrm{norm}}\\,v_{\\mathrm{eq}} \\sin i_\\star \\left(1 - \\alpha_{\\mathrm{rot}}\\, y_{\\mathrm{lat}}^{2} - \\beta_{\\mathrm{rot}}\\, y_{\\mathrm{lat}}^{4}\\right)\n",
    "\\end{aligned}\n",
    "\"\"\"\n",
    "\n",
    "display(Math(eq1))\n",
    "print('Calculates radial velocity of stellar surface element from rotation (in km/s). The absolute and radial velocity depend on stellar latitude in presence of differential rotation.')\n",
    "display(Math(eq2))\n",
    "print('Where $\\Phi$ is the angle between the LOS `z` and the surface element in the `zx` plane.')\n",
    "display(Math(eq3))\n"
   ]
  },
  {
   "cell_type": "markdown",
   "id": "3290c21f",
   "metadata": {},
   "source": []
  },
  {
   "cell_type": "markdown",
   "id": "c1ca59f4",
   "metadata": {},
   "source": []
  }
 ],
 "metadata": {
  "kernelspec": {
   "display_name": "Python 3",
   "language": "python",
   "name": "python3"
  },
  "language_info": {
   "codemirror_mode": {
    "name": "ipython",
    "version": 3
   },
   "file_extension": ".py",
   "mimetype": "text/x-python",
   "name": "python",
   "nbconvert_exporter": "python",
   "pygments_lexer": "ipython3",
   "version": "3.13.7"
  }
 },
 "nbformat": 4,
 "nbformat_minor": 5
}
