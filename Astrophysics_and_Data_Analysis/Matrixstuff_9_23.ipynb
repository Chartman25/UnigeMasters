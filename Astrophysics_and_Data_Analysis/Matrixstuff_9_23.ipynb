{
 "cells": [
  {
   "cell_type": "code",
   "execution_count": 9,
   "id": "98a73df2",
   "metadata": {},
   "outputs": [],
   "source": [
    "SET_FOREGROUND_ESCAPE = \"\\033[38;2;{r};{g};{b}m\"\n",
    "SET_BACKGROUND_ESCAPE = \"\\033[48;2;{r};{g};{b}m\"\n",
    "darkBlue=0,   107,   177\n",
    "darkRed=160,   48,   43\n",
    "black=0,0,0#black\n",
    "white=255,255,255#white\n",
    "darkRed2=172,23,0\n",
    "darkPurple=111,54,146\n",
    "darkPurple2=142,24,84\n",
    "purple=140,94,215\n",
    "darkGreen=60,129,35 \n",
    "darkGrey=108,108,108\n",
    "lightGreen=224,245,206 #good for background\n",
    "lightGrey=240,240,240  #good for background\n",
    "brightBlue=8,43,249\n",
    "def set_foreground(rgb):\n",
    "    r,g,b=rgb\n",
    "    print(SET_FOREGROUND_ESCAPE.format(r=r, g=g, b=b), end=\"\")\n",
    "def set_background(rgb):\n",
    "    r,g,b=rgb\n",
    "    print(SET_BACKGROUND_ESCAPE.format(r=r, g=g, b=b), end=\"\")\n",
    "    \n",
    "def start_style(s):\n",
    "    #bold : s=1\n",
    "    #italic : s=3\n",
    "    #underline : s=4\n",
    "    #bold & underline : s=1;4\n",
    "    #bold & italic& underline : s=1;3;4\n",
    "    return '\\x1B['+s+'m'\n",
    "\n",
    "end_style='\\x1B[0m'"
   ]
  },
  {
   "cell_type": "code",
   "execution_count": 10,
   "id": "0ba4df41",
   "metadata": {},
   "outputs": [
    {
     "data": {
      "text/plain": [
       "\"set_foreground(darkBlue)#Dark blue\\nprint(start_style('1')+'My Hello World'+end_style)\\nset_foreground(darkGrey)#Dark blue\\nprint(start_style('2')+'My Hello World'+end_style)\\nset_foreground(purple)\\nprint(start_style('3')+'My Hello World'+end_style)\\nset_foreground(brightBlue)\\nprint(start_style('4')+'My Hello World'+end_style)\\nset_foreground(darkRed)#Dark blue\\nprint(start_style('1;3')+'My Hello World'+end_style)\\nset_foreground(darkPurple)#Dark blue\\nprint(start_style('3;4')+'My Hello World'+end_style)\\nset_foreground(darkGreen)#Dark blue\\nprint(start_style('1;4')+'My Hello World'+end_style)\\nset_foreground(black)\\nprint(start_style('1;3;4')+'My Hello World'+end_style)\""
      ]
     },
     "execution_count": 10,
     "metadata": {},
     "output_type": "execute_result"
    }
   ],
   "source": [
    "'''set_foreground(darkBlue)#Dark blue\n",
    "print(start_style('1')+'My Hello World'+end_style)\n",
    "set_foreground(darkGrey)#Dark blue\n",
    "print(start_style('2')+'My Hello World'+end_style)\n",
    "set_foreground(purple)\n",
    "print(start_style('3')+'My Hello World'+end_style)\n",
    "set_foreground(brightBlue)\n",
    "print(start_style('4')+'My Hello World'+end_style)\n",
    "set_foreground(darkRed)#Dark blue\n",
    "print(start_style('1;3')+'My Hello World'+end_style)\n",
    "set_foreground(darkPurple)#Dark blue\n",
    "print(start_style('3;4')+'My Hello World'+end_style)\n",
    "set_foreground(darkGreen)#Dark blue\n",
    "print(start_style('1;4')+'My Hello World'+end_style)\n",
    "set_foreground(black)\n",
    "print(start_style('1;3;4')+'My Hello World'+end_style)'''"
   ]
  },
  {
   "cell_type": "code",
   "execution_count": 11,
   "id": "75c6003c",
   "metadata": {},
   "outputs": [],
   "source": [
    "# create a list\n",
    "l=[1,2,3,4]\n",
    "# mixing types also works\n",
    "l2=[4,3,'a',14]\n",
    "#accessing an element\n",
    "l2[2]\n",
    "#accessing a set of elements\n",
    "l2[2:]\n",
    "#adding 'd' at the end of the list using the append() function\n",
    "l2.append('d')\n",
    "# changing that particular sublist index value\n",
    "l2[2] = 'apples'\n",
    "# Removing fourth element (index 3) from the sublist using pop() method\n",
    "removed_item = l2.pop(3)"
   ]
  },
  {
   "cell_type": "code",
   "execution_count": 12,
   "id": "ea12c11e",
   "metadata": {},
   "outputs": [],
   "source": [
    "# creating a nested list\n",
    "nl = [4,3,['a', 'b', 'c'],14] \n",
    "# accessing the sublist by using the indexing method\n",
    "l = nl[2] \n",
    "# accessing the second element of the sublist\n",
    "data = nl[2][1]\n",
    "# adding 5 inside the sublist using the append() function\n",
    "nl[2].append('4')\n",
    "# changing that particular sublist index value\n",
    "nl[2][1] = 5\n",
    "# Removing 3 from the sublist using pop() method\n",
    "removed_item = nl[2].pop(2)"
   ]
  },
  {
   "cell_type": "code",
   "execution_count": 13,
   "id": "a23d3d53",
   "metadata": {},
   "outputs": [
    {
     "name": "stdout",
     "output_type": "stream",
     "text": [
      "[1, 'c', 3, 4]\n",
      "[[1], [2], [3], [4]]\n",
      "[[1], ['c'], [3], [4]]\n"
     ]
    }
   ],
   "source": [
    "l=[1,2,3,4]\n",
    "#create a new list from l, replacing the value 2 by 'c'\n",
    "l2 = [e if e != 2 else 'c' for e in l]\n",
    "print(l2)\n",
    "#create a nested list from l\n",
    "nl2=[[e] for e in l]\n",
    "print(nl2)\n",
    "#create a nested list from l, replacing the value 2 by 'c'\n",
    "nl3 = [[e] if e != 2 else ['c'] for e in l]\n",
    "print(nl3)\n"
   ]
  },
  {
   "cell_type": "code",
   "execution_count": 14,
   "id": "bd5d7c6b",
   "metadata": {},
   "outputs": [
    {
     "name": "stdout",
     "output_type": "stream",
     "text": [
      "l   :  [1, 0, 2.0]\n",
      "nl1 :  [[1, 0, 2.0]]\n",
      "nl2 :  [[1], [0], [2.0]]\n",
      "\n",
      "l   : length 3\n",
      "nl1 : (nrow,ncol)=( 1, 3)\n",
      "nl2 : (nrow,ncol)=( 3, 1)\n"
     ]
    }
   ],
   "source": [
    "l=[1,0,2.] #list\n",
    "nl1=[l]    \n",
    "nl2=[[e] for e in l]\n",
    "print('l   : ', l)\n",
    "print('nl1 : ', nl1)\n",
    "print('nl2 : ', nl2)\n",
    "print('')\n",
    "print('l   : length',len(l))\n",
    "\n",
    "#nested list \n",
    "nrow = len(nl1)\n",
    "ncol = len(nl1[0])\n",
    "print('nl1 : (nrow,ncol)=(%2i,%2i)'%(nrow,ncol))\n",
    "\n",
    "nrow = len(nl2)\n",
    "ncol = len(nl2[0])\n",
    "print('nl2 : (nrow,ncol)=(%2i,%2i)'%(nrow,ncol))"
   ]
  },
  {
   "cell_type": "code",
   "execution_count": 15,
   "id": "098066b2",
   "metadata": {},
   "outputs": [
    {
     "name": "stdout",
     "output_type": "stream",
     "text": [
      "l   shape with np.asarray : (3,)\n",
      "nl1 shape with np.asarray : (1, 3)\n",
      "nl2 shape with np.asarray : (3, 1)\n"
     ]
    }
   ],
   "source": [
    "import numpy as np\n",
    "#assess the shape of a list, provided that the can be converted into a numpy array\n",
    "print('l   shape with np.asarray :',np.asarray(l).shape)\n",
    "print('nl1 shape with np.asarray :',np.asarray(nl1).shape)\n",
    "print('nl2 shape with np.asarray :',np.asarray(nl2).shape)"
   ]
  },
  {
   "cell_type": "code",
   "execution_count": 16,
   "id": "64a6b5e7",
   "metadata": {},
   "outputs": [
    {
     "name": "stdout",
     "output_type": "stream",
     "text": [
      "[ 1 -4  1]\n",
      "[ 1. -4. 10.]\n",
      "[ 1.+2.j -4.+0.j 10.+0.j]\n",
      "['a' 'vasdf' 'd']\n",
      "[ 1 -4 10]\n",
      "['a' 'va' 'd']\n"
     ]
    }
   ],
   "source": [
    "print(np.array([1,-4,1]))       #Built a 1D numpy array from a list of integer numbers\n",
    "print(np.array([1.0,-4,10]))    #Built a 1D numpy array from a list of real numbers\n",
    "print(np.array([1.0+2j,-4,10])) #Built a 1D numpy array from a list of complex numbers\n",
    "print(np.array(['a','vasdf','d']))# numpy array of char is possible\n",
    "\n",
    "#Force the type of a numpy array\n",
    "print(np.array([1.01,-4.3,10]).astype(int))\n",
    "print(np.array(['a','vasdf','d']).astype('<U2'))"
   ]
  },
  {
   "cell_type": "code",
   "execution_count": 17,
   "id": "a08f6775",
   "metadata": {},
   "outputs": [
    {
     "ename": "ValueError",
     "evalue": "setting an array element with a sequence. The requested array has an inhomogeneous shape after 1 dimensions. The detected shape was (4,) + inhomogeneous part.",
     "output_type": "error",
     "traceback": [
      "\u001b[31m---------------------------------------------------------------------------\u001b[39m",
      "\u001b[31mValueError\u001b[39m                                Traceback (most recent call last)",
      "\u001b[36mCell\u001b[39m\u001b[36m \u001b[39m\u001b[32mIn[17]\u001b[39m\u001b[32m, line 2\u001b[39m\n\u001b[32m      1\u001b[39m \u001b[38;5;66;03m#inhomogeneous shape \u001b[39;00m\n\u001b[32m----> \u001b[39m\u001b[32m2\u001b[39m \u001b[43mnp\u001b[49m\u001b[43m.\u001b[49m\u001b[43marray\u001b[49m\u001b[43m(\u001b[49m\u001b[43m[\u001b[49m\u001b[32;43m4\u001b[39;49m\u001b[43m,\u001b[49m\u001b[32;43m3\u001b[39;49m\u001b[43m,\u001b[49m\u001b[43m[\u001b[49m\u001b[32;43m2\u001b[39;49m\u001b[43m,\u001b[49m\u001b[43m \u001b[49m\u001b[32;43m6\u001b[39;49m\u001b[43m,\u001b[49m\u001b[43m \u001b[49m\u001b[32;43m3\u001b[39;49m\u001b[43m]\u001b[49m\u001b[43m,\u001b[49m\u001b[32;43m14\u001b[39;49m\u001b[43m]\u001b[49m\u001b[43m)\u001b[49m \u001b[38;5;66;03m# inhomogeneous shape\u001b[39;00m\n",
      "\u001b[31mValueError\u001b[39m: setting an array element with a sequence. The requested array has an inhomogeneous shape after 1 dimensions. The detected shape was (4,) + inhomogeneous part."
     ]
    }
   ],
   "source": [
    "#inhomogeneous shape \n",
    "np.array([4,3,[2, 6, 3],14]) # inhomogeneous shape"
   ]
  },
  {
   "cell_type": "code",
   "execution_count": null,
   "id": "1f97cdf0",
   "metadata": {},
   "outputs": [
    {
     "data": {
      "text/plain": [
       "array(['1.0', 'a', '10'], dtype='<U32')"
      ]
     },
     "execution_count": 10,
     "metadata": {},
     "output_type": "execute_result"
    }
   ],
   "source": [
    "#inhomogeneous shape \n",
    "np.array([1.0,'a',10])# inhomogeneous type"
   ]
  },
  {
   "cell_type": "code",
   "execution_count": null,
   "id": "25577f39",
   "metadata": {},
   "outputs": [
    {
     "ename": "ValueError",
     "evalue": "setting an array element with a sequence. The requested array has an inhomogeneous shape after 1 dimensions. The detected shape was (4,) + inhomogeneous part.",
     "output_type": "error",
     "traceback": [
      "\u001b[31m---------------------------------------------------------------------------\u001b[39m",
      "\u001b[31mValueError\u001b[39m                                Traceback (most recent call last)",
      "\u001b[36mCell\u001b[39m\u001b[36m \u001b[39m\u001b[32mIn[11]\u001b[39m\u001b[32m, line 2\u001b[39m\n\u001b[32m      1\u001b[39m \u001b[38;5;66;03m#inhomogeneous shape and type\u001b[39;00m\n\u001b[32m----> \u001b[39m\u001b[32m2\u001b[39m \u001b[43mnp\u001b[49m\u001b[43m.\u001b[49m\u001b[43marray\u001b[49m\u001b[43m(\u001b[49m\u001b[43m[\u001b[49m\u001b[32;43m4\u001b[39;49m\u001b[43m,\u001b[49m\u001b[32;43m3\u001b[39;49m\u001b[43m,\u001b[49m\u001b[43m[\u001b[49m\u001b[33;43m'\u001b[39;49m\u001b[33;43ma\u001b[39;49m\u001b[33;43m'\u001b[39;49m\u001b[43m,\u001b[49m\u001b[43m \u001b[49m\u001b[33;43m'\u001b[39;49m\u001b[33;43mb\u001b[39;49m\u001b[33;43m'\u001b[39;49m\u001b[43m,\u001b[49m\u001b[43m \u001b[49m\u001b[33;43m'\u001b[39;49m\u001b[33;43mc\u001b[39;49m\u001b[33;43m'\u001b[39;49m\u001b[43m]\u001b[49m\u001b[43m,\u001b[49m\u001b[32;43m14\u001b[39;49m\u001b[43m]\u001b[49m\u001b[43m)\u001b[49m \n",
      "\u001b[31mValueError\u001b[39m: setting an array element with a sequence. The requested array has an inhomogeneous shape after 1 dimensions. The detected shape was (4,) + inhomogeneous part."
     ]
    }
   ],
   "source": [
    "#inhomogeneous shape and type\n",
    "np.array([4,3,['a', 'b', 'c'],14]) "
   ]
  },
  {
   "cell_type": "code",
   "execution_count": null,
   "id": "af567b0c",
   "metadata": {},
   "outputs": [
    {
     "name": "stdout",
     "output_type": "stream",
     "text": [
      "a :  [1. 0. 2.] is a 1d array of length : 3\n",
      "\n",
      "b_col is column vector with  3 row\n",
      "b_col [[1.]\n",
      " [0.]\n",
      " [2.]]\n",
      "\n",
      "c_row is a row vector with  3 colums\n",
      "c_row [[1. 0. 2.]]\n",
      "\n"
     ]
    }
   ],
   "source": [
    "a=np.array(l)  #1D numpy array\n",
    "print('a : ',a, end=' is a ')\n",
    "print('1d array of length :%2i'%(a.shape),end='\\n\\n')\n",
    "#Consider a column vector built from a 1D numpy array and a list of real numbers\n",
    "b_col=np.array(nl2) #column vector\n",
    "print('b_col is column vector with %2i row'%(b_col.shape[0]))\n",
    "print('b_col',b_col,end='\\n\\n')\n",
    "#Consider a row vector built from a 1D numpy array and a list of real numbers\n",
    "c_row=np.array(nl1) #row vector\n",
    "print('c_row is a row vector with %2i colums'%(c_row.shape[1]))\n",
    "print('c_row',c_row,end='\\n\\n')"
   ]
  },
  {
   "cell_type": "code",
   "execution_count": null,
   "id": "0ca740a2",
   "metadata": {},
   "outputs": [
    {
     "name": "stdout",
     "output_type": "stream",
     "text": [
      "\n",
      "Transform a 1D numpy array into a column vector\n",
      " a.shape: (3, 1) \n",
      " a_column.shape: (3, 1, 1)\n",
      "[[1.  ]\n",
      " [0.25]\n",
      " [2.  ]]\n",
      "[[[1.  ]]\n",
      "\n",
      " [[0.25]]\n",
      "\n",
      " [[2.  ]]]\n",
      "\n",
      "Transform a 1D numpy array into a row vector\n",
      " a.shape: (3, 1) \n",
      " a_row.shape: (1, 3, 1)\n",
      "\n",
      "Transform a column vector  into a row vector (and vice versa)\n",
      " a_col.shape: (3, 1, 1) \n",
      " a_row=a_col.T.shape: (1, 1, 3)\n",
      " a_row.shape: (1, 1, 3) \n",
      " a_col=a_row.T.shape: (3, 1, 1)\n"
     ]
    }
   ],
   "source": [
    "print('\\nTransform a 1D numpy array into a column vector')\n",
    "a_col=a[:,np.newaxis]\n",
    "print(' a.shape:',a.shape,'\\n','a_column.shape:',a_col.shape)\n",
    "\n",
    "print('\\nTransform a 1D numpy array into a row vector')\n",
    "a_row=a[np.newaxis,:]\n",
    "print(' a.shape:',a.shape,'\\n','a_row.shape:',a_row.shape)\n",
    "\n",
    "print('\\nTransform a column vector  into a row vector (and vice versa)')\n",
    "a_row=a_col.T \n",
    "a_col=a_row.T \n",
    "print(' a_col.shape:',a_col.shape,'\\n','a_row=a_col.T.shape:',a_row.shape)\n",
    "print(' a_row.shape:',a_row.shape,'\\n','a_col=a_row.T.shape:',a_col.shape)"
   ]
  },
  {
   "cell_type": "code",
   "execution_count": null,
   "id": "5e95ecb4",
   "metadata": {},
   "outputs": [
    {
     "name": "stdout",
     "output_type": "stream",
     "text": [
      "\t\u001b[1ma  (3x1)\u001b[0m\n",
      "[[1.  ]\n",
      " [0.25]\n",
      " [2.  ]]\n"
     ]
    }
   ],
   "source": [
    "mtxt='\\t%sa  (%ix%i)%s'%(start_style('1'),a.shape[0],a.shape[1],end_style)\n",
    "print(mtxt)\n",
    "print(a)"
   ]
  },
  {
   "cell_type": "code",
   "execution_count": null,
   "id": "8a65c610",
   "metadata": {},
   "outputs": [
    {
     "name": "stdout",
     "output_type": "stream",
     "text": [
      "\u001b[38;2;0;107;177m\n",
      " \u001b[1mIn this class, we recommand to work with column vectors\u001b[0m\n",
      "\t\u001b[1ma  (3x1)\u001b[0m\n",
      "[[1.  ]\n",
      " [0.25]\n",
      " [2.  ]]\n",
      "\n",
      "\t\u001b[1mb  (3x1)\u001b[0m\n",
      "[[-3. ]\n",
      " [ 1. ]\n",
      " [ 0.5]]\n",
      "\n",
      "\t\u001b[1mc  (7x1)\u001b[0m\n",
      "[[1]\n",
      " [0]\n",
      " [2]\n",
      " [6]\n",
      " [3]\n",
      " [6]\n",
      " [2]]\n"
     ]
    }
   ],
   "source": [
    "import numpy as np\n",
    "a_arr=np.array([1,0.25,2])      #len 3\n",
    "b_arr=np.array([-3,1,0.5])      #len 3\n",
    "c_arr=np.array([1,0,2,6,3,6,2]) #len 7\n",
    "#\n",
    "a=a_arr[:,np.newaxis]     #a_col\n",
    "a_row=a_arr[np.newaxis,:]\n",
    "b=b_arr[:,np.newaxis]     #=b_col\n",
    "b_row=b_arr[np.newaxis,:]\n",
    "c=c_arr[:,np.newaxis]     #=c_col\n",
    "c_row=c_arr[np.newaxis,:]\n",
    "\n",
    "set_foreground(darkBlue)\n",
    "print('\\n %sIn this class, we recommand to work with column vectors%s'%(start_style('1'),end_style))\n",
    "mtxt='\\t%sa  (%ix%i)%s'%(start_style('1'),a.shape[0],a.shape[1],end_style)\n",
    "print(mtxt)\n",
    "print(a)\n",
    "print('')\n",
    "mtxt='\\t%sb  (%ix%i)%s'%(start_style('1'),b.shape[0],b.shape[1],end_style)\n",
    "print(mtxt)\n",
    "print(b)\n",
    "print('')\n",
    "mtxt='\\t%sc  (%ix%i)%s'%(start_style('1'),c.shape[0],c.shape[1],end_style)\n",
    "print(mtxt)\n",
    "print(c)"
   ]
  },
  {
   "cell_type": "code",
   "execution_count": null,
   "id": "98318a26",
   "metadata": {},
   "outputs": [
    {
     "name": "stdout",
     "output_type": "stream",
     "text": [
      "These are the corresponding column vectors\n",
      "a_row :\n",
      " [[1.   0.25 2.  ]]\n",
      "b_row :\n",
      " [[-3.   1.   0.5]]\n",
      "c_row :\n",
      " [[1 0 2 6 3 6 2]]\n",
      "\n",
      "These are 1d numpy arrays\n",
      "\ta_arr [1.   0.25 2.  ]\n",
      "\tb_arr [-3.   1.   0.5]\n",
      "\tc_arr [1 0 2 6 3 6 2]\n"
     ]
    }
   ],
   "source": [
    "print('These are the corresponding column vectors')\n",
    "print('a_row :\\n',a_row)\n",
    "print('b_row :\\n',b_row)\n",
    "print('c_row :\\n',c_row)\n",
    "print('')\n",
    "print('These are 1d numpy arrays')\n",
    "print('\\ta_arr',a_arr)\n",
    "print('\\tb_arr',b_arr)\n",
    "print('\\tc_arr',c_arr)"
   ]
  },
  {
   "cell_type": "code",
   "execution_count": null,
   "id": "dc3d6235",
   "metadata": {},
   "outputs": [
    {
     "name": "stdout",
     "output_type": "stream",
     "text": [
      "\u001b[38;2;0;107;177m\n",
      " \u001b[1mThis is the prefered way to write the dot product in python\u001b[0m\n",
      "\t\u001b[1ma.T@b  (1x1)\u001b[0m\n",
      "[[-1.75]]\n",
      "\n",
      "But this also works\n",
      "\tnp.dot(a_arr,b_arr) -1.75          shape: ()\n",
      "\ta_arr@b_arr         -1.75          shape: ()\n",
      "\ta_row@b [[-1.75]]     shape: (1, 1)\n",
      "\ta_row@b_row.T [[-1.75]]     shape: (1, 1)\n",
      "\ta.T@b_row.T [[-1.75]]     shape: (1, 1)\n"
     ]
    }
   ],
   "source": [
    "#prefered expression for dot product\n",
    "d = a.T@b\n",
    "#but this also works\n",
    "d1 = np.dot(a_arr,b_arr) # using 1d numpy array\n",
    "d2 = a_arr@b_arr         # using 1d numpy array\n",
    "d3 = a_row@b\n",
    "d4 = a_row@b_row.T\n",
    "d5 = a.T@b_row.T\n",
    "\n",
    "set_foreground(darkBlue)\n",
    "print('\\n %sThis is the prefered way to write the dot product in python%s'%(start_style('1'),end_style))\n",
    "mtxt='\\t%sa.T@b  (%ix%i)%s'%(start_style('1'),d.shape[0],d.shape[1],end_style)\n",
    "print(mtxt)\n",
    "print(d)\n",
    "\n",
    "print('\\nBut this also works')\n",
    "print('\\tnp.dot(a_arr,b_arr)',d1, '         shape:',d1.shape)\n",
    "print('\\ta_arr@b_arr        ',d2, '         shape:',d2.shape)\n",
    "print('\\ta_row@b',d3, '    shape:',d3.shape)\n",
    "print('\\ta_row@b_row.T',d4, '    shape:',d4.shape)\n",
    "print('\\ta.T@b_row.T',d5, '    shape:',d5.shape)"
   ]
  },
  {
   "cell_type": "code",
   "execution_count": null,
   "id": "c0fe07c2",
   "metadata": {},
   "outputs": [
    {
     "name": "stdout",
     "output_type": "stream",
     "text": [
      "\u001b[38;2;0;107;177m\n",
      " \u001b[1mThese are the prefered way to write the outer product in python\u001b[0m\n",
      "\t\u001b[1mc@b.T or b@c.T \u001b[0m \n",
      "\t\u001b[1mNote that c@b.T  ≠ b@c.T  but c@b.T = (b@c.T).T\u001b[0m \n",
      "\n",
      "a -  (3, 1)\n",
      "b -  (3, 1)\n",
      "c -  (7, 1)\n",
      "\n",
      "D=c@b.T   -  (7, 3)\n",
      "E=b@c.T   -  (3, 7)\n"
     ]
    }
   ],
   "source": [
    "#This is the prefered way to built the outer product\n",
    "# Note that c@b.T ≠ b@c.T\n",
    "D = c@b.T\n",
    "E = b@c.T\n",
    "#But those alternative methods also work. Not recommended.\n",
    "D1=c_row.T@b.T\n",
    "D2=c@b_row\n",
    "D3=c_row.T@b_row\n",
    "\n",
    "set_foreground(darkBlue)\n",
    "print('\\n %sThese are the prefered way to write the outer product in python%s'%(start_style('1'),end_style))\n",
    "mtxt='\\t%sc@b.T or b@c.T %s '%(start_style('1'),end_style) \n",
    "print(mtxt, end='\\n');\n",
    "mtxt='\\t%sNote that c@b.T  ≠ b@c.T  but c@b.T = (b@c.T).T%s '%(start_style('1'),end_style) \n",
    "print(mtxt, end='\\n');\n",
    "print('')\n",
    "print('a - ', a.shape)\n",
    "print('b - ', b.shape)\n",
    "print('c - ', c.shape)\n",
    "print('')\n",
    "print('D=c@b.T   - ', D.shape)\n",
    "print('E=b@c.T   - ', E.shape)"
   ]
  },
  {
   "cell_type": "code",
   "execution_count": null,
   "id": "07160b63",
   "metadata": {},
   "outputs": [
    {
     "name": "stdout",
     "output_type": "stream",
     "text": [
      "a -  (3, 1)\n",
      "b -  (3, 1)\n",
      "c -  (7, 1)\n",
      "\n",
      "D         -  (7, 3)\n",
      "E         -  (3, 7)\n",
      "\n",
      "D@E       -  (7, 7)\n",
      "E@D       -  (3, 3)\n",
      "\n",
      "D@D.T     -  (7, 7)\n",
      "E@E.T     -  (3, 3)\n",
      "\n",
      "c.T@D@a   -  (1, 1)\n",
      "a.T@E@c   -  (1, 1)\n",
      "\n",
      "c.T@D@E@c -  (1, 1)\n",
      "a.T@E@D@b -  (1, 1)\n"
     ]
    }
   ],
   "source": [
    "print('a - ', a.shape)\n",
    "print('b - ', b.shape)\n",
    "print('c - ', c.shape)\n",
    "print('')\n",
    "print('D         - ',D.shape)\n",
    "print('E         - ', E.shape)\n",
    "print('')\n",
    "print('D@E       - ',(D@E).shape)\n",
    "print('E@D       - ', (E@D).shape)\n",
    "print('')\n",
    "print('D@D.T     - ',(D@D.T).shape)\n",
    "print('E@E.T     - ', (E@E.T).shape)\n",
    "print('')\n",
    "print('c.T@D@a   - ',(c.T@D@a).shape)\n",
    "print('a.T@E@c   - ',(a.T@E@c).shape)\n",
    "print('')\n",
    "print('c.T@D@E@c - ',(c.T@D@E@c).shape)\n",
    "print('a.T@E@D@b - ',(a.T@E@D@b).shape)"
   ]
  },
  {
   "cell_type": "code",
   "execution_count": null,
   "id": "b9a9fcff",
   "metadata": {},
   "outputs": [
    {
     "ename": "NameError",
     "evalue": "name 'np' is not defined",
     "output_type": "error",
     "traceback": [
      "\u001b[31m---------------------------------------------------------------------------\u001b[39m",
      "\u001b[31mNameError\u001b[39m                                 Traceback (most recent call last)",
      "\u001b[36mCell\u001b[39m\u001b[36m \u001b[39m\u001b[32mIn[2]\u001b[39m\u001b[32m, line 1\u001b[39m\n\u001b[32m----> \u001b[39m\u001b[32m1\u001b[39m \u001b[38;5;28mprint\u001b[39m(\u001b[43mnp\u001b[49m.linalg.inv)\n",
      "\u001b[31mNameError\u001b[39m: name 'np' is not defined"
     ]
    }
   ],
   "source": [
    "np.linalg.inv"
   ]
  },
  {
   "cell_type": "code",
   "execution_count": 45,
   "id": "b6d4b156",
   "metadata": {},
   "outputs": [
    {
     "name": "stdout",
     "output_type": "stream",
     "text": [
      "(1, 2)\n",
      "(2, 1)\n",
      "[[ 0.5  0.5]\n",
      " [-0.5  0.5]]\n",
      "[[0.]\n",
      " [3.]]\n"
     ]
    },
    {
     "data": {
      "text/plain": [
       "array([[0.],\n",
       "       [3.]])"
      ]
     },
     "execution_count": 45,
     "metadata": {},
     "output_type": "execute_result"
    }
   ],
   "source": [
    "X = np.array([[1,-1],\n",
    "              [1,1]])\n",
    "X3 = np.hstack((np.array([[1],[1]]), np.array([[-1],[1]])))\n",
    "# print(X3)\n",
    "y = np.array([[-3],\n",
    "              [3]])\n",
    "yT = np.array([[-3, 3]])\n",
    "print(yT.shape)\n",
    "print(y.shape)\n",
    "Xinv = np.linalg.inv(X)\n",
    "print(Xinv)\n",
    "print(Xinv@y)\n",
    "\n",
    "\n",
    "np.linalg.solve(X, y)\n"
   ]
  },
  {
   "cell_type": "code",
   "execution_count": 43,
   "id": "a0803177",
   "metadata": {},
   "outputs": [
    {
     "name": "stdout",
     "output_type": "stream",
     "text": [
      "[[-2.]\n",
      " [ 0.]\n",
      " [ 6.]]\n"
     ]
    },
    {
     "data": {
      "text/plain": [
       "array([[-2.],\n",
       "       [ 0.],\n",
       "       [ 6.]])"
      ]
     },
     "execution_count": 43,
     "metadata": {},
     "output_type": "execute_result"
    }
   ],
   "source": [
    "X2 = np.array([[1, -1, 1],\n",
    "               [1, 0, 0],\n",
    "               [1, 1, 1]])\n",
    "y2 = np.array([[4],\n",
    "               [-2],\n",
    "               [4]])\n",
    "X2inv = np.linalg.inv(X2)\n",
    "print(X2inv@y2)\n",
    "np.linalg.solve(X2,y2)"
   ]
  },
  {
   "cell_type": "code",
   "execution_count": 95,
   "id": "35176cde",
   "metadata": {},
   "outputs": [
    {
     "name": "stdout",
     "output_type": "stream",
     "text": [
      "[[0.4]\n",
      " [4.2]]\n",
      "[[-3.8]\n",
      " [ 0.4]\n",
      " [ 2.5]\n",
      " [ 4.6]\n",
      " [ 8.8]]\n",
      "(5, 1)\n"
     ]
    }
   ],
   "source": [
    "y = np.array([[-3],[-0.5],[3.5],[2.5],[10]])\n",
    "t = np.array([[-1],[0],[0.5],[1],[2]])\n",
    "X = np.hstack((np.ones((5,1)),t))\n",
    "\n",
    "\n",
    "a_hat = (np.linalg.inv((X.T@X))@X.T)@y\n",
    "print(a_hat)\n",
    "\n",
    "\n",
    "y_hat = (X@(np.linalg.inv(X.T@X))@X.T)@y\n",
    "print(y_hat)\n",
    "print(y_hat.shape)\n",
    "\n",
    "I = np.identity(5)\n",
    "\n",
    "blah = X@np.linalg.inv(X.T@X)@X.T\n",
    "r_hat = np.subtract(I, blah)@y\n"
   ]
  },
  {
   "cell_type": "code",
   "execution_count": null,
   "id": "9af86bf9",
   "metadata": {},
   "outputs": [
    {
     "data": {
      "text/plain": [
       "<matplotlib.legend.Legend at 0x1749f46da90>"
      ]
     },
     "execution_count": 146,
     "metadata": {},
     "output_type": "execute_result"
    },
    {
     "data": {
      "image/png": "[encoded data removed]",
      "text/plain": [
       "<Figure size 640x480 with 1 Axes>"
      ]
     },
     "metadata": {},
     "output_type": "display_data"
    }
   ],
   "source": [
    "import matplotlib.pyplot as plt\n",
    "plt.scatter(t, y, label='data points', color='b')\n",
    "# plt.axline((0,a_hat[0][0]), slope=a_hat[1][0], linestyle=':', color='r', label='best fit')\n",
    "plt.plot(t, y_hat, linestyle=':', color='r', label='best fit')\n",
    "plt.grid()\n",
    "plt.xlabel('time')\n",
    "plt.ylabel('y')\n",
    "plt.title('Linear Regression')\n",
    "plt.legend()\n"
   ]
  },
  {
   "cell_type": "code",
   "execution_count": 115,
   "id": "d7c64c0a",
   "metadata": {},
   "outputs": [
    {
     "data": {
      "image/png": "[encoded data removed]",
      "text/plain": [
       "<Figure size 640x480 with 1 Axes>"
      ]
     },
     "metadata": {},
     "output_type": "display_data"
    }
   ],
   "source": [
    "plt.scatter(t, r_hat)\n",
    "plt.axhline(0, linestyle=':')\n",
    "plt.ylim(-2.5, 2.5)\n",
    "plt.grid()"
   ]
  },
  {
   "cell_type": "code",
   "execution_count": null,
   "id": "c18218ff",
   "metadata": {},
   "outputs": [],
   "source": []
  },
  {
   "cell_type": "code",
   "execution_count": null,
   "id": "267816ba",
   "metadata": {},
   "outputs": [],
   "source": []
  },
  {
   "cell_type": "code",
   "execution_count": 151,
   "id": "3f5a5d1d",
   "metadata": {},
   "outputs": [
    {
     "name": "stdout",
     "output_type": "stream",
     "text": [
      "[[0.91398964]]\n",
      "[[ 1.         -1.5       ]\n",
      " [ 1.         -1.49217221]\n",
      " [ 1.         -1.48434442]\n",
      " ...\n",
      " [ 1.          2.48434442]\n",
      " [ 1.          2.49217221]\n",
      " [ 1.          2.5       ]]\n"
     ]
    }
   ],
   "source": [
    "R2 = 1 - (((y-X@a_hat).T@(y-X@a_hat))/((y-np.mean(y)).T@(y-np.mean(y))))\n",
    "print(R2)\n",
    "\n",
    "\n",
    "col = np.linspace(-1.5, 2.5, 512)[:,np.newaxis] \n",
    "# print(col)\n",
    "\n",
    "X_tilda = np.hstack((np.ones((512,1)),col))\n",
    "\n",
    "print(X_tilda)\n",
    "\n",
    "y_tilda = X_tilda@a_hat"
   ]
  },
  {
   "cell_type": "code",
   "execution_count": 155,
   "id": "10ed1a87",
   "metadata": {},
   "outputs": [
    {
     "data": {
      "text/plain": [
       "<matplotlib.legend.Legend at 0x174a0958b90>"
      ]
     },
     "execution_count": 155,
     "metadata": {},
     "output_type": "execute_result"
    },
    {
     "data": {
      "image/png": "[encoded data removed]",
      "text/plain": [
       "<Figure size 640x480 with 1 Axes>"
      ]
     },
     "metadata": {},
     "output_type": "display_data"
    }
   ],
   "source": [
    "plt.scatter(t, y, label='data points', color='b')\n",
    "# plt.axline((0,a_hat[0][0]), slope=a_hat[1][0], linestyle=':', color='r', label='best fit')\n",
    "plt.plot(col, y_tilda, linestyle=':', color='r', label='best fit')\n",
    "plt.grid()\n",
    "plt.xlabel('time')\n",
    "plt.ylabel('y')\n",
    "plt.title('Linear Regression')\n",
    "plt.legend()"
   ]
  },
  {
   "cell_type": "code",
   "execution_count": null,
   "id": "1286249b",
   "metadata": {},
   "outputs": [],
   "source": []
  }
 ],
 "metadata": {
  "kernelspec": {
   "display_name": "Python 3",
   "language": "python",
   "name": "python3"
  },
  "language_info": {
   "codemirror_mode": {
    "name": "ipython",
    "version": 3
   },
   "file_extension": ".py",
   "mimetype": "text/x-python",
   "name": "python",
   "nbconvert_exporter": "python",
   "pygments_lexer": "ipython3",
   "version": "3.13.7"
  }
 },
 "nbformat": 4,
 "nbformat_minor": 5
}
