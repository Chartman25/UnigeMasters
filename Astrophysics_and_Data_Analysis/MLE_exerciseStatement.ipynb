{
 "cells": [
  {
   "cell_type": "markdown",
   "id": "410d1dbe-c881-4a77-96ec-f5446f353e8b",
   "metadata": {},
   "source": [
    "#  Maximum Likelihood - Linear Model\n",
    "\n",
    "\n",
    "## Authors\n",
    "Damien Ségransan\n",
    "\n",
    "## Learning Goals\n",
    "Use the formalism seen in Class to compute the Maximum Likelihood estimate of a linear model:\n",
    "1. the variance/covariance matrix of the model parameters\n",
    "2. the model parameters and their uncertainties\n",
    "3. the correlations between the model parameters\n",
    "\n",
    "\n",
    "## Keywords\n",
    "Maximum Likelihood, $\\chi^2$, Linear Model\n",
    "\n"
   ]
  },
  {
   "cell_type": "markdown",
   "id": "f5557af4-cee8-423b-a8ed-07bbd84a4ff2",
   "metadata": {
    "tags": []
   },
   "source": [
    "## Context\n",
    "### Experimental data\n",
    "Let's consider an experiment where a set of N measurements $y_i$ are recorded at time $t_i$. For each measurement $y_i$, an error $ey_i$ has been  estimated. We assume here that the experimental setup is such that the measurement $y_i$ can be considered as drawn from a Normal distribution with independant random variables (Gaussian White Noise) where $ey_i$ is an good estimate of the standard deviation of such distributions.\n",
    "\n",
    "The datasets that you will read form the ascii file *dataFile.csv* consists of a set of 3 vectors : \n",
    "\n",
    "$$\n",
    "\\begin{align*}\n",
    "\\boldsymbol{t}=\\begin{bmatrix} t_0\\\\\n",
    "t_1\\\\\n",
    " \\vdots\\\\\n",
    "t_{N-1}\\end{bmatrix}, \\,\\,\\boldsymbol{y}=\\begin{bmatrix} y_0\\\\\n",
    "y_1\\\\\n",
    " \\vdots\\\\\n",
    "y_{N-1}\\end{bmatrix}, \\,\\,\\boldsymbol{ey}=\\begin{bmatrix} ey_0\\\\\n",
    "ey_1\\\\\n",
    " \\vdots\\\\\n",
    "ey_{N-1}\\end{bmatrix}\n",
    " \\end{align*}$$\n",
    "\n"
   ]
  },
  {
   "cell_type": "markdown",
   "id": "2dce7380-a1a5-413b-8c86-1bb518e7a470",
   "metadata": {
    "tags": []
   },
   "source": [
    "### Modeling the data\n",
    "You will model the experimental data using the following linear model : \n",
    "$f(t_i;\\boldsymbol{a}) = a_0 + a_1\\,t + a_2 \\, \\cos{\\Big(\\frac{2 \\pi \\,t_i}{P}\\Big)}+a_3 \\, \\sin{\\Big(\\frac{2 \\pi \\, t_i}{P}\\Big)}$\n",
    "where  $P=3.2$ is the period of the signal and $\\boldsymbol{a} =\\begin{bmatrix} a_0\\\\\n",
    "a_1\\\\\n",
    "a_2\\\\\n",
    "a_3\\\\\n",
    "\\end{bmatrix}\n",
    "$ are the model parameters (to be estimated)<br>\n",
    "\n",
    "Let's simplify the notation such that $f_i = f_i(\\boldsymbol{a}) = f(t_i|\\boldsymbol{a})$ and further simplify the notation to:<br>\n",
    "$\n",
    "\\boldsymbol{f}=\\begin{bmatrix} f_0\\\\\n",
    "f_1\\\\\n",
    " \\vdots\\\\\n",
    "f_{N-1}\\end{bmatrix}\n",
    "$\n",
    "\n",
    "The linear model can be written as \n",
    "\n",
    "$$\n",
    "\\begin{align*}\n",
    "\\begin{bmatrix} f_0\\\\\n",
    "f_1\\\\\n",
    " \\vdots\\\\\n",
    "f_{N-1}\\end{bmatrix} = \\begin{bmatrix} \n",
    "1  & t_{0}&\\cos{\\Big(\\frac{2 \\pi \\,t_0}{P}\\Big)} & \\sin{\\Big(\\frac{2 \\pi \\,t_0}{P}\\Big)}\\\\\n",
    "1  & t_{1}&\\cos{\\Big(\\frac{2 \\pi \\,t_1}{P}\\Big)} &  \\sin{\\Big(\\frac{2 \\pi \\,t_1}{P}\\Big)}\\\\\n",
    " \\vdots  & \\vdots&  \\vdots &  \\vdots\\\\\n",
    "1. &  t_{N-1}&\\cos{\\Big(\\frac{2 \\pi \\,t_{N-1}}{P}\\Big)} &  \\sin{\\Big(\\frac{2 \\pi \\,t_{N-1}}{P}\\Big)}\n",
    "\\end{bmatrix}.\\begin{bmatrix} a_0\\\\\n",
    "a_1\\\\\n",
    "a_2\\\\\n",
    "a_3\n",
    "\\end{bmatrix}\n",
    " \\end{align*}$$\n",
    "\n",
    "or as $$\\boldsymbol{f} = \\boldsymbol{X} . \\boldsymbol{a} $$\n",
    "\n",
    "\n",
    "where $\\boldsymbol{X}$ is the **basis matrix**.\n",
    "\n"
   ]
  },
  {
   "cell_type": "markdown",
   "id": "edd036f8-69bb-4933-a0ea-12e6a19f1ebd",
   "metadata": {},
   "source": [
    "### Question 1) Read the data stored in the file *dataFile.csv* "
   ]
  },
  {
   "cell_type": "code",
   "execution_count": 2,
   "id": "342bbb15-7684-4050-8740-e41e26f5f1fe",
   "metadata": {
    "tags": []
   },
   "outputs": [
    {
     "name": "stdout",
     "output_type": "stream",
     "text": [
      "            t          y        ey\n",
      "0    0.228271  10.332252  1.001974\n",
      "1    0.971738 -11.709249  1.256096\n",
      "2    1.860219  -4.655806  1.406310\n",
      "3    2.178692   8.047363  1.306263\n",
      "4    2.472763  15.164463  1.360878\n",
      "5    5.483577  10.177736  1.145938\n",
      "6    6.970131   1.889571  1.458887\n",
      "7    7.538958 -10.356763  1.357288\n",
      "8    8.236843  -6.024950  1.271272\n",
      "9    8.365838  -1.240522  1.071085\n",
      "10   8.484527   1.559459  1.186670\n",
      "11  10.487327  -8.332717  1.337067\n",
      "12\n"
     ]
    }
   ],
   "source": [
    "import astropy.io.ascii as ascii\n",
    "import Functions as AC\n",
    "import numpy as np\n",
    "import matplotlib.pyplot as plt\n",
    "#do it yourself\n",
    "\n",
    "\n",
    "data = AC.data_loader(\"dataFile.csv\")\n",
    "print(data)\n",
    "N=len(data['t'])\n",
    "print(N)\n",
    "t = np.array(data['t'])[:,np.newaxis] \n",
    "y = np.array(data['y'])\n",
    "ey = np.array(data['ey']) \n",
    "\n"
   ]
  },
  {
   "cell_type": "markdown",
   "id": "8748e76c-798f-4168-bbd5-a024d960bedb",
   "metadata": {},
   "source": [
    "### Question 2)  Maximum Likelihood estimate of the Covariance Matrix $\\boldsymbol C_{\\hat{a}}$ of $\\boldsymbol a$\n",
    "\n"
   ]
  },
  {
   "cell_type": "code",
   "execution_count": 3,
   "id": "13d8bf31-34b9-4c92-ae6f-0222ce9858ce",
   "metadata": {
    "tags": []
   },
   "outputs": [
    {
     "name": "stdout",
     "output_type": "stream",
     "text": [
      "[[ 0.43335219]\n",
      " [ 0.94368249]\n",
      " [-0.48899637]\n",
      " [-0.90706496]\n",
      " [-0.98981146]\n",
      " [-0.97398551]\n",
      " [ 0.89986051]\n",
      " [ 0.78658193]\n",
      " [-0.44845868]\n",
      " [-0.65812164]\n",
      " [-0.81420964]\n",
      " [ 0.98533566]]\n",
      "[[ 1.          0.228271    0.90122465  0.43335219]\n",
      " [ 1.          0.971738   -0.33085247  0.94368249]\n",
      " [ 1.          1.860219   -0.87228582 -0.48899637]\n",
      " [ 1.          2.178692   -0.42099069 -0.90706496]\n",
      " [ 1.          2.472763    0.14238427 -0.98981146]\n",
      " [ 1.          5.483577   -0.2266103  -0.97398551]\n",
      " [ 1.          6.970131    0.43617779  0.89986051]\n",
      " [ 1.          7.538958   -0.61748593  0.78658193]\n",
      " [ 1.          8.236843   -0.89380356 -0.44845868]\n",
      " [ 1.          8.365838   -0.75291162 -0.65812164]\n",
      " [ 1.          8.484527   -0.58057098 -0.81420964]\n",
      " [ 1.         10.487327   -0.1706272   0.98533566]]\n"
     ]
    }
   ],
   "source": [
    "#Build the Basis Matrix. \n",
    "\n",
    "#Advice : Always check the shape of your matrix using np.shape()\n",
    "# You'll be using np.vstack, np.transpose. \n",
    "P=3.2\n",
    "\n",
    "theta=2*np.pi*data['t']/P\n",
    "\n",
    "ones = np.ones((N,1))\n",
    "\n",
    "cos = np.cos(2*(np.pi)*t/(P))\n",
    "    \n",
    "Cos = np.array(cos)\n",
    "\n",
    "\n",
    "\n",
    "sin = np.sin(2*(np.pi)*t/(P))\n",
    "\n",
    "\n",
    "Sin = np.array(sin)\n",
    "print(Sin)\n",
    "\n",
    "\n",
    "basis_matrix = np.hstack((ones,t,Cos,Sin))\n",
    "\n",
    "\n",
    "print(basis_matrix)"
   ]
  },
  {
   "cell_type": "code",
   "execution_count": 12,
   "id": "5680e5c0",
   "metadata": {},
   "outputs": [
    {
     "name": "stdout",
     "output_type": "stream",
     "text": [
      "(12, 12)\n",
      "(12, 12)\n",
      "(4, 12)\n",
      "(4, 4)\n"
     ]
    }
   ],
   "source": [
    "#Sigma is the covariance matrix of the data. \n",
    "#you'll be using np.diag, np.linalg.inv\n",
    "Sigma=np.diag(ey**2)#fill the code here\n",
    "print(Sigma.shape)\n",
    "\n",
    "# print(Sigma)\n",
    "\n",
    "#Weight of the data is the inverse of the covariance Sigma.\n",
    "Weight=np.linalg.inv(Sigma)#fill the code here\n",
    "print(Weight.shape)\n",
    "\n",
    "print(basis_matrix.T.shape)\n",
    "\n",
    "\n",
    "#compute the Covariance Matrix using np.matmul (or the @ operator), np.linalg.inv\n",
    "Ca=np.linalg.inv((basis_matrix.T)@(Weight)@(basis_matrix)) #fill the code here\n",
    "\n",
    "#What is the dimension of the covariance matrix ?\n",
    "print(Ca.shape)"
   ]
  },
  {
   "cell_type": "markdown",
   "id": "6506ff2e-e6d0-4879-a122-40fbfcba694a",
   "metadata": {},
   "source": [
    "### Question 3)  $\\boldsymbol{\\hat{a}}$ : Maximum Likelihood estimate of $\\boldsymbol{a}$ and corresponding uncertainties"
   ]
  },
  {
   "cell_type": "code",
   "execution_count": 17,
   "id": "d9fee99d-c3a0-459e-ab6a-4e9a6ea820ee",
   "metadata": {
    "tags": []
   },
   "outputs": [
    {
     "name": "stdout",
     "output_type": "stream",
     "text": [
      "[ 2.92661494  0.05147235 13.84442476 -9.57220812]\n",
      "[0.44203256 0.01502445 0.66157021 0.25856879]\n"
     ]
    }
   ],
   "source": [
    "#Use the Solution to the Normal Equation to estomate aMLE\n",
    "\n",
    "#compute the Maximum Likelihood estimate of aMLE using np.linalg.solve, A, and b\n",
    "aMLE=(np.linalg.inv(basis_matrix.T@Weight@basis_matrix))@basis_matrix.T@Weight@y #fill the code here\n",
    "#compute the uncertainties on a using the Covariance matrix C of aMLE\n",
    "aStd=np.diag(Ca) #fill the code here\n",
    "\n",
    "print(aMLE)\n",
    "\n",
    "print(aStd)\n"
   ]
  },
  {
   "cell_type": "markdown",
   "id": "e636a305-962f-448a-aab5-4f04180d2ce0",
   "metadata": {},
   "source": [
    "### Question 4)  Compute and Display the correlation matrix of $\\hat{a}$,*ie.* $R_{\\hat{a}}$ where $R_{\\hat{a},ij} = \\frac{C_{\\hat{a},ij}}{\\sigma_i \\, \\sigma_j}$\n"
   ]
  },
  {
   "cell_type": "code",
   "execution_count": null,
   "id": "6b752464-df66-41fb-b60b-0cf06297f50b",
   "metadata": {},
   "outputs": [
    {
     "name": "stdout",
     "output_type": "stream",
     "text": [
      "[[ 1.         -4.38307599 -0.20069075  0.20299157]\n",
      " [-0.14897838  1.          0.08035847 -0.04544641]\n",
      " [-0.3003648   3.53841752  1.         -0.66864455]\n",
      " [ 0.11874077 -0.7821268  -0.26133374  1.        ]]\n"
     ]
    },
    {
     "ename": "",
     "evalue": "",
     "output_type": "error",
     "traceback": [
      "\u001b[1;31mThe Kernel crashed while executing code in the current cell or a previous cell. \n",
      "\u001b[1;31mPlease review the code in the cell(s) to identify a possible cause of the failure. \n",
      "\u001b[1;31mClick <a href='https://aka.ms/vscodeJupyterKernelCrash'>here</a> for more info. \n",
      "\u001b[1;31mView Jupyter <a href='command:jupyter.viewOutput'>log</a> for further details."
     ]
    }
   ],
   "source": [
    "Raij = Ca/aStd\n",
    "\n"
   ]
  },
  {
   "cell_type": "markdown",
   "id": "3cf47038-44cc-44bd-9205-8b9d23f0ae6a",
   "metadata": {},
   "source": [
    "###  Question 5) Computation of the signal amplitude K and its uncertainity \n",
    "\n"
   ]
  },
  {
   "cell_type": "markdown",
   "id": "19080a63-9665-4da7-8452-0a7eefd8a35b",
   "metadata": {},
   "source": [
    "Let's consider function of a vector of random variables, $F(\\boldsymbol a)$. Variations in the random vector $\\boldsymbol a$, will results in variation in F. Provided that variations in \n",
    "variations in $\\boldsymbol a$ are small, we can Taylor expand F to first-order and derive - and after some computation - derive the expression for the variance of F.<br>\n",
    "$$\\sigma^2_F = \\Big(\\frac{\\partial F}{\\partial a}\\Big) \\, C_a\\,  \\Big(\\frac{\\partial F}{\\partial a}\\Big)^T$$"
   ]
  },
  {
   "cell_type": "markdown",
   "id": "66bff867-e062-4a3f-bb16-e45f39fee962",
   "metadata": {},
   "source": [
    "Here $k=F(\\boldsymbol a)=\\sqrt{a_1^2 + a_2^2}$ "
   ]
  },
  {
   "cell_type": "code",
   "execution_count": null,
   "id": "7a062ed4-3518-4550-8dd6-188e58f5234e",
   "metadata": {},
   "outputs": [],
   "source": [
    "kMLE=  #fill the code here\n",
    "dfda =  #fill the code here\n",
    "kVar =  #fill the code here\n",
    "kStd=  np.sqrt(kVar)\n",
    "#print(kMLE,kVar, kStd)"
   ]
  },
  {
   "cell_type": "markdown",
   "id": "10bfa275-68b0-4c66-ad49-f711cd8ca448",
   "metadata": {},
   "source": [
    "###  Question 6) Maximum Likelihood estimate of the model :  $\\boldsymbol{\\hat{y}}$ and the corresponding predictive covariance Matrix. Is $\\boldsymbol \\Sigma_p$ diagonal?"
   ]
  },
  {
   "cell_type": "code",
   "execution_count": null,
   "id": "baaf1efb-27dd-44b1-8823-65e636289ba7",
   "metadata": {},
   "outputs": [],
   "source": [
    "#Compute yMLE and its covariance Matrix at the time of the measurements. you may use np.diag\n",
    "\n",
    "\n"
   ]
  },
  {
   "cell_type": "markdown",
   "id": "e47e716d-ad09-42b1-9310-7dfef3034688",
   "metadata": {
    "tags": []
   },
   "source": [
    "###  Question 7) Minimum $\\chi^2$ "
   ]
  },
  {
   "cell_type": "code",
   "execution_count": null,
   "id": "ba1e8975-c0ed-4579-bdeb-2bbfd423fbc0",
   "metadata": {},
   "outputs": [],
   "source": [
    "#Compute the $\\chi^2$ corresponding to the aMLE"
   ]
  },
  {
   "cell_type": "markdown",
   "id": "18d034b4-01e9-4826-b6bc-2a97288ad015",
   "metadata": {
    "tags": []
   },
   "source": [
    "###  Question 8) Compute  $\\boldsymbol{\\hat{y}_c}$  and the corresponding predictive covariance Matrix for a continuous time vector $t_i = i \\delta t$ with $i=0..101$ and $\\delta t=0.15$. Is $\\boldsymbol \\Sigma_{c,p}$ diagonal?"
   ]
  },
  {
   "cell_type": "code",
   "execution_count": null,
   "id": "a7ca0af3-90ad-4e38-899a-df42a2be817a",
   "metadata": {},
   "outputs": [],
   "source": [
    "#You'll need to build a new basis matrix Xs with the new t vector generate a smooth model.\n",
    "#use, np.linspace,  np.vstack etc... "
   ]
  },
  {
   "cell_type": "markdown",
   "id": "c44f4669-43bb-4d20-b2b7-60fab1cb7387",
   "metadata": {
    "tags": []
   },
   "source": [
    "###  Question 9) Display the data (y vs. t) with errors. Overplot the $\\boldsymbol{\\hat{y}_c}$ with the $\\pm 1\\sigma$ confidence intervals "
   ]
  },
  {
   "cell_type": "code",
   "execution_count": null,
   "id": "05fe0722-8555-4a43-bdbb-afdccb7e0748",
   "metadata": {},
   "outputs": [],
   "source": [
    "#You'll make use of matplotlib, and more specifically \n",
    "#fig, ax = plt.subplots(1,1, figsize=(20, 12))\n",
    "#ax.plot\n",
    "#ax.errorbar\n",
    "#ax.fill_between"
   ]
  },
  {
   "cell_type": "code",
   "execution_count": null,
   "id": "5a2ab57d-f6ab-4074-ab5a-320a9d93e9cd",
   "metadata": {},
   "outputs": [],
   "source": []
  },
  {
   "cell_type": "code",
   "execution_count": null,
   "id": "3fe941f0-567a-4f55-b7b0-3c4780f23486",
   "metadata": {},
   "outputs": [],
   "source": []
  }
 ],
 "metadata": {
  "kernelspec": {
   "display_name": "Python 3",
   "language": "python",
   "name": "python3"
  },
  "language_info": {
   "codemirror_mode": {
    "name": "ipython",
    "version": 3
   },
   "file_extension": ".py",
   "mimetype": "text/x-python",
   "name": "python",
   "nbconvert_exporter": "python",
   "pygments_lexer": "ipython3",
   "version": "3.13.7"
  }
 },
 "nbformat": 4,
 "nbformat_minor": 5
}
