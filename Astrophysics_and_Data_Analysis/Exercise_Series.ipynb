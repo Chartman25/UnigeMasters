{
 "cells": [
  {
   "cell_type": "code",
   "execution_count": 3,
   "id": "afeb9f0e",
   "metadata": {},
   "outputs": [],
   "source": [
    "import astropy.io.ascii as ascii\n",
    "import Functions as AC\n",
    "import numpy as np\n",
    "import matplotlib.pyplot as plt\n",
    "from scipy.integrate import quad"
   ]
  },
  {
   "cell_type": "markdown",
   "id": "a2fbcf52",
   "metadata": {},
   "source": [
    "Question #1"
   ]
  },
  {
   "cell_type": "code",
   "execution_count": 1,
   "id": "dda61959",
   "metadata": {},
   "outputs": [],
   "source": [
    "def f(x, tau):\n",
    "    if x < 0:\n",
    "        return 0\n",
    "    else:\n",
    "        return (1/tau)*np.exp(-x/tau)\n",
    "    \n",
    "    \n",
    "def cdf(x, tau):\n",
    "    if x < 0:\n",
    "        return 0\n",
    "    else:\n",
    "        return (1-np.exp(-x/tau))"
   ]
  },
  {
   "cell_type": "code",
   "execution_count": 12,
   "id": "003e3760",
   "metadata": {},
   "outputs": [
    {
     "name": "stdout",
     "output_type": "stream",
     "text": [
      "E[X] = 1.0000\n"
     ]
    }
   ],
   "source": [
    "def expected_value(tau):\n",
    "    integrand = lambda x: x * f(x, tau)\n",
    "    result, _ = quad(integrand, 0, np.inf)\n",
    "    return result\n",
    "\n",
    "tau = 1\n",
    "E_X = expected_value(tau)\n",
    "print(f\"E[X] = {E_X:.4f}\")"
   ]
  },
  {
   "cell_type": "markdown",
   "id": "2af5b5ce",
   "metadata": {},
   "source": [
    "$E_{X}$ = $\\tau$\n",
    "\n",
    "$E_{X}^2$ = $\\tau^{2}$"
   ]
  },
  {
   "cell_type": "code",
   "execution_count": 15,
   "id": "de6762b3",
   "metadata": {},
   "outputs": [
    {
     "data": {
      "text/plain": [
       "1.0000000000000004"
      ]
     },
     "execution_count": 15,
     "metadata": {},
     "output_type": "execute_result"
    }
   ],
   "source": [
    "E_X2 = 2*tau**2\n",
    "Var = E_X2 - (E_X)**2\n",
    "Var"
   ]
  },
  {
   "cell_type": "code",
   "execution_count": 16,
   "id": "c5e939d0",
   "metadata": {},
   "outputs": [],
   "source": [
    "def Quantile(tau, p):\n",
    "    return (-tau*np.log(1-p))"
   ]
  },
  {
   "cell_type": "code",
   "execution_count": 17,
   "id": "a1eae5f7",
   "metadata": {},
   "outputs": [
    {
     "name": "stdout",
     "output_type": "stream",
     "text": [
      "0.6931471805599453 0.10536051565782628 2.302585092994046\n"
     ]
    }
   ],
   "source": [
    "mean = Quantile(tau, .5)\n",
    "ten_percent = Quantile(tau, .1)\n",
    "ninety_percent = Quantile(tau, .9)\n",
    "\n",
    "print(mean, ten_percent, ninety_percent)"
   ]
  },
  {
   "cell_type": "code",
   "execution_count": null,
   "id": "5833a52a",
   "metadata": {},
   "outputs": [],
   "source": []
  },
  {
   "cell_type": "markdown",
   "id": "9b49c2ba",
   "metadata": {},
   "source": [
    "Question #2"
   ]
  },
  {
   "cell_type": "code",
   "execution_count": 25,
   "id": "6f08f283",
   "metadata": {},
   "outputs": [],
   "source": [
    "def pdf(i):\n",
    "    if i < 0:\n",
    "        return 0\n",
    "    elif 0 <= i <= np.pi/2:\n",
    "        return np.sin(i)\n",
    "    else: \n",
    "        return 0\n",
    "    \n",
    "def cdf(i):\n",
    "    if i < 0:\n",
    "        return 0\n",
    "    elif 0 <= i <= np.pi/2:\n",
    "        return 1-np.cos(i)\n",
    "    else: \n",
    "        return 0"
   ]
  },
  {
   "cell_type": "code",
   "execution_count": 29,
   "metadata": {},
   "outputs": [
    {
     "name": "stdout",
     "output_type": "stream",
     "text": [
      "0.03407407334119883\n",
      "0.258816088398246\n"
     ]
    }
   ],
   "source": [
    "print(cdf(i=.261799)-cdf(i=0))\n",
    "\n",
    "print(cdf(i=np.pi/2)-cdf(i=1.309))"
   ]
  },
  {
   "cell_type": "code",
   "execution_count": 35,
   "id": "5e584bfb",
   "metadata": {},
   "outputs": [
    {
     "data": {
      "text/plain": [
       "<matplotlib.lines.Line2D at 0x210e44c4050>"
      ]
     },
     "execution_count": 35,
     "metadata": {},
     "output_type": "execute_result"
    },
    {
     "data": {
      "image/png": "[encoded data removed]",
      "text/plain": [
       "<Figure size 640x480 with 1 Axes>"
      ]
     },
     "metadata": {},
     "output_type": "display_data"
    }
   ],
   "source": [
    "x = np.linspace(0, np.pi/2, 100)\n",
    "plt.plot(np.sin(x))\n",
    "plt.axvline(15, linestyle=':')\n",
    "plt.axvline(75, linestyle=':')"
   ]
  },
  {
   "cell_type": "code",
   "execution_count": null,
   "id": "1bff179a",
   "metadata": {},
   "outputs": [],
   "source": []
  },
  {
   "cell_type": "markdown",
   "id": "91b1e277",
   "metadata": {},
   "source": [
    "Question #3"
   ]
  },
  {
   "cell_type": "code",
   "execution_count": 52,
   "id": "8b53bbf6",
   "metadata": {},
   "outputs": [
    {
     "name": "stdout",
     "output_type": "stream",
     "text": [
      "[[ 0.25 -0.1 ]\n",
      " [-0.1   4.  ]]\n"
     ]
    }
   ],
   "source": [
    "column_1 = [[0.25],[-0.1]]\n",
    "column_2 = [[-0.1], [4]]\n",
    "Cov = np.hstack((column_1, column_2))\n",
    "print(Cov)"
   ]
  },
  {
   "cell_type": "code",
   "execution_count": 55,
   "id": "c297db70",
   "metadata": {},
   "outputs": [
    {
     "name": "stdout",
     "output_type": "stream",
     "text": [
      "0.5\n",
      "2.0\n",
      "-0.1\n"
     ]
    }
   ],
   "source": [
    "sigma1=np.sqrt(Cov[0][0])\n",
    "sigma2=np.sqrt(Cov[1][1])\n",
    "Correlation = Cov[0][1]/(sigma1*sigma2)\n",
    "print(sigma1)\n",
    "print(sigma2)\n",
    "print(Correlation) "
   ]
  },
  {
   "cell_type": "markdown",
   "id": "221069f9",
   "metadata": {},
   "source": [
    "Question #4"
   ]
  },
  {
   "cell_type": "code",
   "execution_count": 64,
   "id": "847a098b",
   "metadata": {},
   "outputs": [
    {
     "name": "stdout",
     "output_type": "stream",
     "text": [
      "Plain mean:     14.970 ± 0.047\n",
      "Weighted mean:  14.948 ± 0.042\n"
     ]
    }
   ],
   "source": [
    "V1 = 14.92\n",
    "V1e = 0.05\n",
    "V2 = 15.02\n",
    "V2e = 0.08\n",
    "\n",
    "v = np.array([V1, V2])\n",
    "ve = np.array([V1e, V2e])\n",
    "\n",
    "Vave = (V1+V2)/2\n",
    "Vave_e = np.sqrt((V1e**2+V2e**2))/2\n",
    "\n",
    "w = 1 / ve**2\n",
    "mean_weight = np.sum(w*v)/np.sum(w)\n",
    "err_weight = 1/np.sqrt(np.sum(w))\n",
    "\n",
    "print(f\"Plain mean:     {Vave:.3f} ± {Vave_e:.3f}\")\n",
    "print(f\"Weighted mean:  {mean_weight:.3f} ± {err_weight:.3f}\")"
   ]
  },
  {
   "cell_type": "markdown",
   "id": "8275db52",
   "metadata": {},
   "source": [
    "Choose the weighted mean as it gives more weight towards the more precise measurement (Vq, V1e)"
   ]
  },
  {
   "cell_type": "markdown",
   "id": "80150357",
   "metadata": {},
   "source": [
    "Question #5"
   ]
  },
  {
   "cell_type": "code",
   "execution_count": 77,
   "id": "5fed3093",
   "metadata": {},
   "outputs": [
    {
     "name": "stdout",
     "output_type": "stream",
     "text": [
      "[[ 3  4]\n",
      " [12 -5]]\n",
      "[[0]\n",
      " [0]]\n"
     ]
    }
   ],
   "source": [
    "col_1 = [[3],[12]]\n",
    "col_2 = [[4],[-5]]\n",
    "A = np.hstack((col_1, col_2))\n",
    "print(A)\n",
    "N = 1_000_000\n",
    "u = np.random.normal(0, 1, size=(2, N))\n",
    "\n",
    "E_u = np.array([[0, 0]]).T\n",
    "\n",
    "Cov_u = np.identity(2)\n",
    "print(E_u)\n"
   ]
  },
  {
   "cell_type": "code",
   "execution_count": 85,
   "id": "43e285b1",
   "metadata": {},
   "outputs": [
    {
     "name": "stdout",
     "output_type": "stream",
     "text": [
      "E[x] =\n",
      " [-0.00630296  0.00783771]\n",
      "Cov(x) =\n",
      " [[ 25.0050801   15.99548444]\n",
      " [ 15.99548444 168.93896595]]\n",
      "5.000507983805906 12.997652324602248\n"
     ]
    }
   ],
   "source": [
    "x = A @ u\n",
    "\n",
    "# Expectations of x\n",
    "E_x = np.mean(x, axis=1)\n",
    "\n",
    "# Covariance of x\n",
    "C_x = np.cov(x)\n",
    "std_x1 = np.sqrt(C_x[0][0])\n",
    "std_x2 = np.sqrt(C_x[1][1])\n",
    "# Cov_x12 = np.cov(x[0], x[1])\n",
    "\n",
    "print(\"E[x] =\\n\", E_x)\n",
    "print(\"Cov(x) =\\n\", C_x)\n",
    "\n",
    "print(std_x1, std_x2)\n"
   ]
  },
  {
   "cell_type": "markdown",
   "id": "ce7addd3",
   "metadata": {},
   "source": [
    "Question #6"
   ]
  },
  {
   "cell_type": "code",
   "execution_count": null,
   "id": "dc081231",
   "metadata": {},
   "outputs": [
    {
     "name": "stdout",
     "output_type": "stream",
     "text": [
      "A is [[ True  True]\n",
      " [ True  True]]\n",
      "B is [[ True  True]\n",
      " [ True  True]]\n",
      "D is [[ True False False]\n",
      " [False  True False]\n",
      " [False False  True]]\n",
      "E is [[ True False False]\n",
      " [False  True False]\n",
      " [False False  True]]\n",
      "F is [[ True  True]\n",
      " [ True  True]]\n",
      "G is [[ True  True  True]\n",
      " [ True  True  True]\n",
      " [ True  True  True]]\n"
     ]
    }
   ],
   "source": [
    "# Only symmetric and square matrices can be covariance matrices\n",
    "# A, B, D, E, F, and G are square\n",
    "A = np.array([[-4,  -0.5],\n",
    "              [-0.5,  9]])\n",
    "\n",
    "B = np.array([[ 4,  -0.5],\n",
    "              [-0.5,  9]])\n",
    "\n",
    "D = np.array([[ 4,   0.5,  0.1],\n",
    "              [-0.5, 9,    1],\n",
    "              [-0.1, -1,   3]])\n",
    "\n",
    "E = np.array([[ 4,   0,   0],\n",
    "              [-0.5, 9,   0],\n",
    "              [-0.1, -1,  3]])\n",
    "\n",
    "F = np.array([[1,   2.5],\n",
    "              [2.5, 1]])\n",
    "\n",
    "G = np.array([[ 4,    0.25, -0.9],\n",
    "              [ 0.25, 9,     0.16],\n",
    "              [-0.9,  0.16, 16]])\n",
    "\n",
    "print(\"A is \" + str(np.equal(A.T, A)))\n",
    "print(\"B is \" + str(np.equal(B.T, B)))\n",
    "print(\"D is \" + str(np.equal(D.T, D)))\n",
    "print(\"E is \" + str(np.equal(E.T, E)))\n",
    "print(\"F is \" + str(np.equal(F.T, F)))\n",
    "print(\"G is \" + str(np.equal(G.T, G)))\n"
   ]
  },
  {
   "cell_type": "markdown",
   "id": "3352dd5b",
   "metadata": {},
   "source": [
    "So A, B, F, and G could be covariance matrices"
   ]
  },
  {
   "cell_type": "markdown",
   "id": "63af650a",
   "metadata": {},
   "source": [
    "Question #7"
   ]
  },
  {
   "cell_type": "code",
   "execution_count": 100,
   "id": "dcdfaab9",
   "metadata": {},
   "outputs": [
    {
     "name": "stdout",
     "output_type": "stream",
     "text": [
      "0.4 0.7 [[ 0.57142857 -0.5       ]\n",
      " [-0.5         1.75      ]]\n"
     ]
    }
   ],
   "source": [
    "y = np.array([12, 14])\n",
    "\n",
    "\n",
    "Cov = np.array([[0.16, -0.14],\n",
    "              [-0.14, 0.49]])\n",
    "\n",
    "y1_err = np.sqrt(Cov[0][0])\n",
    "y2_err = np.sqrt(Cov[1][1])\n",
    "\n",
    "Corr = Cov/(y1_err*y2_err)\n",
    "print(y1_err, y2_err, Corr)"
   ]
  },
  {
   "cell_type": "code",
   "execution_count": 102,
   "id": "f334e8bf",
   "metadata": {},
   "outputs": [
    {
     "name": "stdout",
     "output_type": "stream",
     "text": [
      "\n",
      "== neg_corr ==\n",
      "sigmas(y): [0.4 0.7]\n",
      "R:\n",
      " [[ 1.  -0.5]\n",
      " [-0.5  1. ]]\n",
      "|Sigma| = 0.0588\n",
      "Sigma^{-1}:\n",
      " [[8.33333333 2.38095238]\n",
      " [2.38095238 2.72108844]]\n",
      "mu_hat = 12.645161,  sigma_mu = 0.251447  (Var=0.06322581)\n",
      "\n",
      "== uncorr ==\n",
      "sigmas(y): [0.4 0.7]\n",
      "R:\n",
      " [[1. 0.]\n",
      " [0. 1.]]\n",
      "|Sigma| = 0.07839999999999998\n",
      "Sigma^{-1}:\n",
      " [[6.25       0.        ]\n",
      " [0.         2.04081633]]\n",
      "mu_hat = 12.492308,  sigma_mu = 0.347297  (Var=0.12061538)\n",
      "\n",
      "== pos_corr ==\n",
      "sigmas(y): [0.4 0.7]\n",
      "R:\n",
      " [[1.  0.5]\n",
      " [0.5 1. ]]\n",
      "|Sigma| = 0.0588\n",
      "Sigma^{-1}:\n",
      " [[ 8.33333333 -2.38095238]\n",
      " [-2.38095238  2.72108844]]\n",
      "mu_hat = 12.108108,  sigma_mu = 0.398646  (Var=0.15891892)\n"
     ]
    }
   ],
   "source": [
    "\n",
    "\n",
    "y = np.array([12.0, 14.0]).reshape(-1,1)\n",
    "X = np.array([[1.0],[1.0]])\n",
    "\n",
    "covs = {\n",
    "    \"neg_corr\": np.array([[0.16, -0.14],\n",
    "                          [-0.14, 0.49]]),\n",
    "    \"uncorr\":   np.array([[0.16,  0.00],\n",
    "                          [0.00,  0.49]]),\n",
    "    \"pos_corr\": np.array([[0.16,  0.14],\n",
    "                          [0.14,  0.49]])\n",
    "}\n",
    "\n",
    "def analyze(S):\n",
    "    sig = np.sqrt(np.diag(S))                      # uncertainties of y\n",
    "    R = np.diag(1/sig) @ S @ np.diag(1/sig)        # correlation matrix\n",
    "    detS = np.linalg.det(S)\n",
    "    Sinv = np.linalg.inv(S)\n",
    "    Ca = np.linalg.inv(X.T @ Sinv @ X)             # variance of mu-hat (1x1)\n",
    "    mu_hat = (Ca @ X.T @ Sinv @ y)[0,0]            # GLS estimate\n",
    "    sigma_mu = np.sqrt(Ca[0,0])\n",
    "    return sig, R, detS, Sinv, mu_hat, sigma_mu, Ca\n",
    "\n",
    "for name, S in covs.items():\n",
    "    sig, R, detS, Sinv, mu_hat, sigma_mu, Ca = analyze(S)\n",
    "    print(f\"\\n== {name} ==\")\n",
    "    print(\"sigmas(y):\", sig)\n",
    "    print(\"R:\\n\", R)\n",
    "    print(\"|Sigma| =\", detS)\n",
    "    print(\"Sigma^{-1}:\\n\", Sinv)\n",
    "    print(f\"mu_hat = {mu_hat:.6f},  sigma_mu = {sigma_mu:.6f}  (Var={Ca[0,0]:.8f})\")\n"
   ]
  },
  {
   "cell_type": "markdown",
   "id": "2c441d7c",
   "metadata": {},
   "source": [
    "A seems like Y is maybe independent of X (0)\n",
    "B seems like Y and X are dependent (0)\n",
    "C seems like Y and X are independent (0)\n",
    "D seems like X is maybe independent of Y (0)\n",
    "E seems like Y and X are dependent (0)\n",
    "F seems like Y and X are dependent (-)\n",
    "G seems like Y and X are dependent (-)\n",
    "H seems like Y and X are dependent (+)"
   ]
  },
  {
   "cell_type": "code",
   "execution_count": null,
   "id": "094d2537",
   "metadata": {},
   "outputs": [],
   "source": []
  }
 ],
 "metadata": {
  "kernelspec": {
   "display_name": "Python 3",
   "language": "python",
   "name": "python3"
  },
  "language_info": {
   "codemirror_mode": {
    "name": "ipython",
    "version": 3
   },
   "file_extension": ".py",
   "mimetype": "text/x-python",
   "name": "python",
   "nbconvert_exporter": "python",
   "pygments_lexer": "ipython3",
   "version": "3.13.7"
  }
 },
 "nbformat": 4,
 "nbformat_minor": 5
}
