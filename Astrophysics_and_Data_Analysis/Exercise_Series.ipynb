{
 "cells": [
  {
   "cell_type": "code",
   "execution_count": null,
   "id": "afeb9f0e",
   "metadata": {},
   "outputs": [],
   "source": [
    "import astropy.io.ascii as ascii\n",
    "import Functions as AC\n",
    "import numpy as np\n",
    "import matplotlib.pyplot as plt"
   ]
  }
 ],
 "metadata": {
  "language_info": {
   "name": "python"
  }
 },
 "nbformat": 4,
 "nbformat_minor": 5
}
